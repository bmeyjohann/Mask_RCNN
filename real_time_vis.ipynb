{
 "cells": [
  {
   "cell_type": "code",
   "execution_count": null,
   "metadata": {},
   "outputs": [],
   "source": [
    "# Copyright 2022 Benjamin Meyjohann\n",
    "\n",
    "# IP adress of device capturing images.\n",
    "CAMERA_HOST = \"192.168.1.106\"\n",
    "# Port on which the server for capturing is listening.\n",
    "CAMERA_PORT = 1300\n",
    "\n",
    "import socket\n",
    "import json\n",
    "import base64\n",
    "from io import BytesIO\n",
    "from PIL import Image\n",
    "from IPython.display import clear_output\n",
    "\n",
    "def getImageFromServer():\n",
    "    for i in range(100):\n",
    "        try:\n",
    "            client = socket.socket(socket.AF_INET, socket.SOCK_STREAM)\n",
    "            client.settimeout(1)\n",
    "\n",
    "            client.connect((CAMERA_HOST, CAMERA_PORT))\n",
    "            request = {\"header\": \"raw\"}\n",
    "            client.sendall((json.dumps(request) + \"\\n\").encode())\n",
    "            image_base64 = client.makefile().readline()\n",
    "            image_bytes = base64.b64decode(image_base64)\n",
    "            image_file = BytesIO(image_bytes)\n",
    "            image = Image.open(image_file)\n",
    "            return image\n",
    "        except:\n",
    "            print(\"Connection refused:\", i, \"/\", 100)\n",
    "            continue\n",
    "    \n",
    "    \n",
    "while(True):\n",
    "    image = getImageFromServer()\n",
    "    image = np.array(image)\n",
    "    \n",
    "    r = model.detect([image], verbose=0)[0]\n",
    "    clear_output(wait=True)\n",
    "    visualize.display_instances(image, r['rois'], r['masks'], r['class_ids'], \n",
    "                                dataset_val.class_names, r['scores'], figsize=(16, 16))"
   ]
  }
 ],
 "metadata": {
  "language_info": {
   "name": "python"
  },
  "orig_nbformat": 4
 },
 "nbformat": 4,
 "nbformat_minor": 2
}
